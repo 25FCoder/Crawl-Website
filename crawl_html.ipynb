{
 "cells": [
  {
   "cell_type": "code",
   "execution_count": 1,
   "metadata": {},
   "outputs": [],
   "source": [
    "import requests\n",
    "from bs4 import BeautifulSoup"
   ]
  },
  {
   "cell_type": "code",
   "execution_count": 2,
   "metadata": {},
   "outputs": [],
   "source": [
    "url = \"https://www.formula1.com/en/results.html/2023/drivers.html\"\n",
    "response = requests.get(url)"
   ]
  },
  {
   "cell_type": "code",
   "execution_count": 3,
   "metadata": {},
   "outputs": [
    {
     "name": "stdout",
     "output_type": "stream",
     "text": [
      "Position: 1, Driver: Max Verstappen, Country: NED, Point: 575\n",
      "Position: 2, Driver: Sergio Perez, Country: MEX, Point: 285\n",
      "Position: 3, Driver: Lewis Hamilton, Country: GBR, Point: 234\n",
      "Position: 4, Driver: Fernando Alonso, Country: ESP, Point: 206\n",
      "Position: 5, Driver: Charles Leclerc, Country: MON, Point: 206\n",
      "Position: 6, Driver: Lando Norris, Country: GBR, Point: 205\n",
      "Position: 7, Driver: Carlos Sainz, Country: ESP, Point: 200\n",
      "Position: 8, Driver: George Russell, Country: GBR, Point: 175\n",
      "Position: 9, Driver: Oscar Piastri, Country: AUS, Point: 97\n",
      "Position: 10, Driver: Lance Stroll, Country: CAN, Point: 74\n",
      "Position: 11, Driver: Pierre Gasly, Country: FRA, Point: 62\n",
      "Position: 12, Driver: Esteban Ocon, Country: FRA, Point: 58\n",
      "Position: 13, Driver: Alexander Albon, Country: THA, Point: 27\n",
      "Position: 14, Driver: Yuki Tsunoda, Country: JPN, Point: 17\n",
      "Position: 15, Driver: Valtteri Bottas, Country: FIN, Point: 10\n",
      "Position: 16, Driver: Nico Hulkenberg, Country: GER, Point: 9\n",
      "Position: 17, Driver: Daniel Ricciardo, Country: AUS, Point: 6\n",
      "Position: 18, Driver: Zhou Guanyu, Country: CHN, Point: 6\n",
      "Position: 19, Driver: Kevin Magnussen, Country: DEN, Point: 3\n",
      "Position: 20, Driver: Liam Lawson, Country: NZL, Point: 2\n",
      "Position: 21, Driver: Logan Sargeant, Country: USA, Point: 1\n",
      "Position: 22, Driver: Nyck De Vries, Country: NED, Point: 0\n"
     ]
    }
   ],
   "source": [
    "if response.status_code == 200:\n",
    "    soup = BeautifulSoup(response.content, \"html.parser\")\n",
    "    table = soup.find('table', class_='resultsarchive-table')\n",
    "    rows = table.findAll('tr')\n",
    "    for row in rows:\n",
    "        col = row.findAll('td')\n",
    "        if col:\n",
    "            position = col[1].text\n",
    "            driver_name = col[2].text.strip().split('\\n')\n",
    "            driver_name = ' '.join(driver_name[:-1])\n",
    "            country = col[3].text.strip()\n",
    "            car_name = col[4].text.strip()\n",
    "            point = col[5].text.strip()\n",
    "            print(f\"Position: {position}, Driver: {driver_name}, Country: {country}, Point: {point}\")"
   ]
  }
 ],
 "metadata": {
  "kernelspec": {
   "display_name": "venv",
   "language": "python",
   "name": "python3"
  },
  "language_info": {
   "codemirror_mode": {
    "name": "ipython",
    "version": 3
   },
   "file_extension": ".py",
   "mimetype": "text/x-python",
   "name": "python",
   "nbconvert_exporter": "python",
   "pygments_lexer": "ipython3",
   "version": "3.9.12"
  }
 },
 "nbformat": 4,
 "nbformat_minor": 2
}
