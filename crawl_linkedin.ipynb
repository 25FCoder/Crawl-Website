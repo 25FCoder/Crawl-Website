{
 "cells": [
  {
   "cell_type": "code",
   "execution_count": 61,
   "metadata": {},
   "outputs": [],
   "source": [
    "import requests\n",
    "import pandas as pd\n",
    "from bs4 import BeautifulSoup"
   ]
  },
  {
   "cell_type": "code",
   "execution_count": null,
   "metadata": {},
   "outputs": [],
   "source": [
    "def input_keywords():\n",
    "    keywords = input(\"Input keywords: \")\n",
    "    keywords = keywords.replace(\" \", \"%20\")\n",
    "    return keywords"
   ]
  },
  {
   "cell_type": "code",
   "execution_count": null,
   "metadata": {},
   "outputs": [],
   "source": [
    "def get_response_keywords(keywords):\n",
    "    print('Call api keywords')\n",
    "    url = f\"https://www.linkedin.com/jobs-guest/jobs/api/seeMoreJobPostings/search?keywords={keywords}&location=Vietnam&origin=JOB_SEARCH_PAGE_JOB_FILTER&refresh=true&start=1\"\n",
    "    response = requests.get(url)\n",
    "    return response"
   ]
  },
  {
   "cell_type": "code",
   "execution_count": null,
   "metadata": {},
   "outputs": [],
   "source": [
    "def get_job_links(response):\n",
    "    print('Get job links')\n",
    "    btf_soup = BeautifulSoup(response.content, \"html.parser\")\n",
    "    list_jobs = btf_soup.findAll(\"li\")\n",
    "    job_links = []\n",
    "    for job in list_jobs:\n",
    "        job_link = (\n",
    "            job.find(\"a\", class_=\"base-card__full-link\").get(\"href\")\n",
    "            if job.find(\"a\", class_=\"base-card__full-link\")\n",
    "            else \"\"\n",
    "        )\n",
    "        job_links.append(job_link)\n",
    "    return job_links"
   ]
  },
  {
   "cell_type": "code",
   "execution_count": null,
   "metadata": {},
   "outputs": [],
   "source": [
    "def get_data_job(job_link):\n",
    "    print(f'Get data job from {job_link}')\n",
    "    response = requests.get(job_link)\n",
    "    soup = BeautifulSoup(response.content, \"html.parser\")\n",
    "    job_title = (\n",
    "        soup.find(\"h1\", class_=\"top-card-layout__title\").text\n",
    "        if soup.find(\"h1\", class_=\"top-card-layout__title\")\n",
    "        else None\n",
    "    )\n",
    "    org_name = (\n",
    "        soup.find(\"a\", class_=\"topcard__org-name-link\").text\n",
    "        if soup.find(\"a\", class_=\"topcard__org-name-link\")\n",
    "        else None\n",
    "    )\n",
    "    location = (\n",
    "        soup.find(\"span\", class_=\"topcard__flavor--bullet\").text\n",
    "        if soup.find(\"span\", class_=\"topcard__flavor--bullet\")\n",
    "        else None\n",
    "    )\n",
    "    job_description = (\n",
    "        soup.find(\"div\", class_=\"show-more-less-html__markup\").text\n",
    "        if soup.find(\"div\", class_=\"show-more-less-html__markup\")\n",
    "        else None\n",
    "    )\n",
    "    description_job_creteria_list = soup.findAll(\n",
    "        \"span\", class_=\"description__job-criteria-text\"\n",
    "    )\n",
    "    seniority_level = (\n",
    "        description_job_creteria_list[0].text\n",
    "        if description_job_creteria_list\n",
    "        else None\n",
    "    )\n",
    "    employment_type = (\n",
    "        description_job_creteria_list[1].text\n",
    "        if description_job_creteria_list\n",
    "        else None\n",
    "    )\n",
    "    job_function = (\n",
    "        description_job_creteria_list[2].text\n",
    "        if description_job_creteria_list\n",
    "        else None\n",
    "    )\n",
    "    industries = (\n",
    "        description_job_creteria_list[3].text\n",
    "        if description_job_creteria_list\n",
    "        else None\n",
    "    )\n",
    "\n",
    "    data_job = dict(\n",
    "        Title=job_title,\n",
    "        Organization=org_name,\n",
    "        Location=location,\n",
    "        Description=job_description,\n",
    "        Seniority_level=seniority_level,\n",
    "        Employment_type=employment_type,\n",
    "        Job_function=job_function,\n",
    "        Industries=industries,\n",
    "        Job_link=job_link,\n",
    "    )\n",
    "    return data_job"
   ]
  },
  {
   "cell_type": "code",
   "execution_count": null,
   "metadata": {},
   "outputs": [],
   "source": [
    "def write_to_excel(data_jobs):\n",
    "    print(\"Writing to Excel...\")\n",
    "    df_jobs = pd.DataFrame(data_jobs)\n",
    "    df_jobs.to_excel(\"Linkedin_job.xlsx\", index=False)"
   ]
  },
  {
   "cell_type": "code",
   "execution_count": null,
   "metadata": {},
   "outputs": [],
   "source": [
    "keywords = input_keywords()\n",
    "response = get_response_keywords(keywords)\n",
    "job_links = get_job_links(response)\n",
    "data_jobs = []\n",
    "for job_link in job_links:\n",
    "    data_job = get_data_job(job_link)\n",
    "    data_jobs.append(data_job)\n",
    "\n",
    "write_to_excel(data_jobs)\n",
    "print(\"Crawl data jobs linkedin successfully!\")"
   ]
  }
 ],
 "metadata": {
  "kernelspec": {
   "display_name": "venv",
   "language": "python",
   "name": "python3"
  },
  "language_info": {
   "codemirror_mode": {
    "name": "ipython",
    "version": 3
   },
   "file_extension": ".py",
   "mimetype": "text/x-python",
   "name": "python",
   "nbconvert_exporter": "python",
   "pygments_lexer": "ipython3",
   "version": "3.9.12"
  }
 },
 "nbformat": 4,
 "nbformat_minor": 2
}
